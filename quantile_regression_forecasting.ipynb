{
 "cells": [
  {
   "cell_type": "code",
   "execution_count": null,
   "id": "78fc0ee8",
   "metadata": {},
   "outputs": [],
   "source": [
    "import numpy as np\n",
    "\n",
    "import pandas as pd\n",
    "\n",
    "import Constants\n",
    "from Forecasting import UnivariateForecasts, MultivariateForecasts\n",
    "from Utils import DataUtils"
   ]
  },
  {
   "cell_type": "code",
   "execution_count": null,
   "id": "e354e5bb",
   "metadata": {},
   "outputs": [],
   "source": [
    "n_clusters = 13\n",
    "names, gdp = DataUtils.load_forecast_data()\n",
    "labels = DataUtils.load_labels(Constants.labels_path)\n",
    "gdp_data = np.log(gdp[:, -Constants.T:])"
   ]
  },
  {
   "cell_type": "code",
   "execution_count": null,
   "id": "ce5a1d59",
   "metadata": {},
   "outputs": [],
   "source": [
    "_, __, test_predictions, horizon_predictions, in_sample_predictions, best_params = MultivariateForecasts.multiseries_quantiles(\n",
    "    gdp_data, names\n",
    ")"
   ]
  },
  {
   "cell_type": "code",
   "execution_count": null,
   "id": "a9490067",
   "metadata": {},
   "outputs": [],
   "source": [
    "path = f'Results/Quantile/GBR/All'\n",
    "DataUtils.write_forecasts(in_sample_predictions, test_predictions, horizon_predictions,path)\n",
    "DataUtils.write_params(best_params, f'{path}/params.txt', 0)"
   ]
  },
  {
   "cell_type": "code",
   "execution_count": 5,
   "id": "8d600e68",
   "metadata": {},
   "outputs": [
    {
     "name": "stdout",
     "output_type": "stream",
     "text": [
      "  0%|          | 17/25828032 [00:35<14921:34:46,  2.08s/trial, best loss: 0.21806949698452094]\n",
      "  0%|          | 39/11809 [00:40<3:25:25,  1.05s/trial, best loss: 0.23683277473845016]\n",
      " 10%|█         | 5/48 [00:03<00:29,  1.47trial/s, best loss: 0.30071934143885837]"
     ]
    },
    {
     "name": "stderr",
     "output_type": "stream",
     "text": [
      "c:\\Users\\konto\\Documents\\HPB-Economy-and-Population\\Utils\\ForecastingUtils.py:861: RuntimeWarning: invalid value encountered in sqrt\n",
      "  int_score_67 += np.sqrt(lengths_67)*np.abs(cov_67-0.67)\n",
      "\n"
     ]
    },
    {
     "name": "stdout",
     "output_type": "stream",
     "text": [
      " 31%|███▏      | 15/48 [00:10<00:21,  1.52trial/s, best loss: 0.24080209172454536]"
     ]
    },
    {
     "name": "stderr",
     "output_type": "stream",
     "text": [
      "c:\\Users\\konto\\Documents\\HPB-Economy-and-Population\\Utils\\ForecastingUtils.py:861: RuntimeWarning: invalid value encountered in sqrt\n",
      "  int_score_67 += np.sqrt(lengths_67)*np.abs(cov_67-0.67)\n",
      "\n"
     ]
    },
    {
     "name": "stdout",
     "output_type": "stream",
     "text": [
      " 40%|███▉      | 19/48 [00:12<00:19,  1.47trial/s, best loss: 0.24080209172454536]\n",
      "  6%|▌         | 26/437 [00:21<05:34,  1.23trial/s, best loss: 0.25079079042502284]\n",
      " 12%|█▏        | 18/145 [00:13<01:34,  1.35trial/s, best loss: 0.3181848035528488]\n",
      "  2%|▏         | 28/1312 [00:28<21:45,  1.02s/trial, best loss: 0.2515524643357836] "
     ]
    },
    {
     "name": "stderr",
     "output_type": "stream",
     "text": [
      "c:\\Users\\konto\\Documents\\HPB-Economy-and-Population\\Utils\\ForecastingUtils.py:862: RuntimeWarning: invalid value encountered in sqrt\n",
      "  int_score_90 += np.sqrt(lengths_90)*np.abs(cov_90-0.9)\n",
      "\n"
     ]
    },
    {
     "name": "stdout",
     "output_type": "stream",
     "text": [
      "\n",
      "  0%|          | 43/1525119496997 [03:24<2010768549:57:40,  4.75s/trial, best loss: 0.1703155377474838] \n",
      "  0%|          | 17/956593 [00:27<428:27:21,  1.61s/trial, best loss: 0.263805685292268] \n",
      " 33%|███▎      | 16/48 [00:10<00:20,  1.53trial/s, best loss: 0.3218743674306451]\n",
      " 69%|██████▉   | 11/16 [00:06<00:03,  1.65trial/s, best loss: 0.3033432588267915]\n",
      "  0%|          | 17/18828635765 [01:00<18540746:28:40,  3.54s/trial, best loss: 0.2774129410479762]\n",
      "  0%|          | 21/11809 [00:25<4:02:25,  1.23s/trial, best loss: 0.3456752344142864] \n"
     ]
    }
   ],
   "source": [
    "in_sample_predictions = []\n",
    "test_predictions = []\n",
    "horizon_predictions = []\n",
    "best_params = {}\n",
    "\n",
    "for j in range(n_clusters):\n",
    "    if sum(labels==j) == 1:\n",
    "        # ind = np.where(labels==j)[0][0]\n",
    "        # y = gdp_data[ind]\n",
    "        # country = names[ind]\n",
    "        # _, _, test_preds, horizon_preds, in_sample_preds, params_specific = UnivariateForecasts.univariate_forecast(\n",
    "        #     y, country\n",
    "        # )\n",
    "        continue\n",
    "    else:\n",
    "        cluster_data = gdp_data[[i for i, label in enumerate(labels) if label == j]]\n",
    "        cluster_names = [names[i] for i, label in enumerate(labels) if label == j]\n",
    "        \n",
    "        _, __, test_preds, horizon_preds, in_sample_preds, params_specific = MultivariateForecasts.multiseries_quantiles(\n",
    "            cluster_data, cluster_names\n",
    "        )\n",
    "\n",
    "    in_sample_predictions.append(in_sample_preds)\n",
    "    test_predictions.append(test_preds)\n",
    "    horizon_predictions.append(horizon_preds)\n",
    "    best_params[f'Cluster_{j}'] = params_specific\n",
    "\n",
    "in_sample_predictions = pd.concat(in_sample_predictions, axis=1)\n",
    "test_predictions = pd.concat(test_predictions, axis=1)\n",
    "horizon_predictions = pd.concat(horizon_predictions, axis=1)    "
   ]
  },
  {
   "cell_type": "code",
   "execution_count": 6,
   "id": "ec94f418",
   "metadata": {},
   "outputs": [],
   "source": [
    "path = f'Results/Quantile/GBR/Clusters'\n",
    "DataUtils.write_forecasts(in_sample_predictions, test_predictions, horizon_predictions,path)\n",
    "DataUtils.write_params(best_params, f'{path}/params.txt', 1)"
   ]
  }
 ],
 "metadata": {
  "kernelspec": {
   "display_name": "Python 3",
   "language": "python",
   "name": "python3"
  },
  "language_info": {
   "codemirror_mode": {
    "name": "ipython",
    "version": 3
   },
   "file_extension": ".py",
   "mimetype": "text/x-python",
   "name": "python",
   "nbconvert_exporter": "python",
   "pygments_lexer": "ipython3",
   "version": "3.10.11"
  }
 },
 "nbformat": 4,
 "nbformat_minor": 5
}
