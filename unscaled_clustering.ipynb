{
 "cells": [
  {
   "cell_type": "markdown",
   "metadata": {},
   "source": [
    "# Partitional Clustering of Countries Economic Development without Zero-Mean Scaling"
   ]
  },
  {
   "cell_type": "code",
   "execution_count": null,
   "metadata": {},
   "outputs": [],
   "source": [
    "import numpy as np\n",
    "\n",
    "from tslearn.clustering import silhouette_score\n",
    "\n",
    "from Clustering import TimeSeriesPartitions\n",
    "\n",
    "import Constants\n",
    "\n",
    "from Utils import DataUtils, PreProcessing, VisualUtils, TimeSeriesUtils"
   ]
  },
  {
   "cell_type": "code",
   "execution_count": null,
   "metadata": {},
   "outputs": [],
   "source": [
    "names, gdp, pop, currency, map = DataUtils.load_clustering_data()\n",
    "gdp_data = np.log(gdp[:, -Constants.T:])\n",
    "pop_data = pop[:, -Constants.T:]"
   ]
  },
  {
   "cell_type": "code",
   "execution_count": null,
   "metadata": {},
   "outputs": [],
   "source": [
    "df, scaled_df, scaled_data = PreProcessing.preprocess_onlyGDP(names, gdp_data, zero_mean=False)"
   ]
  },
  {
   "cell_type": "code",
   "execution_count": null,
   "metadata": {},
   "outputs": [],
   "source": [
    "y_k = DataUtils.load_labels(Constants.labels_path)\n",
    "score_k = silhouette_score(scaled_df, y_k)\n",
    "clusters_kmed = VisualUtils.show_clustering(\n",
    "    names, \n",
    "    13, \n",
    "    gdp_data, \n",
    "    None, \n",
    "    y_k, \n",
    "    score_k, \n",
    "    4, \n",
    "    4,\n",
    "    \"Kernel 13-Means with GAK\"\n",
    ")"
   ]
  },
  {
   "cell_type": "code",
   "execution_count": null,
   "metadata": {},
   "outputs": [],
   "source": [
    "y_k = TimeSeriesPartitions.kernel_k_means(scaled_df, 13, 10000)\n",
    "# cluster_centers_k = TimeSeriesUtils.cluster_centroids(scaled_data, 13, y_k, T)\n",
    "score_k = silhouette_score(scaled_df, y_k)\n",
    "clusters_kmed = VisualUtils.show_clustering(\n",
    "    names, \n",
    "    13, \n",
    "    scaled_data, \n",
    "    None, \n",
    "    y_k, \n",
    "    score_k, \n",
    "    4, \n",
    "    4,\n",
    "    \"Kernel 13-Means with GAK\"\n",
    ")"
   ]
  },
  {
   "cell_type": "code",
   "execution_count": null,
   "metadata": {},
   "outputs": [],
   "source": [
    "VisualUtils.show_clusters_on_map(names, y_k, map)"
   ]
  },
  {
   "cell_type": "code",
   "execution_count": 8,
   "metadata": {},
   "outputs": [],
   "source": [
    "# DataUtils.write_labels(names, y_k, labels_path)"
   ]
  }
 ],
 "metadata": {
  "kernelspec": {
   "display_name": "Python 3",
   "language": "python",
   "name": "python3"
  },
  "language_info": {
   "codemirror_mode": {
    "name": "ipython",
    "version": 3
   },
   "file_extension": ".py",
   "mimetype": "text/x-python",
   "name": "python",
   "nbconvert_exporter": "python",
   "pygments_lexer": "ipython3",
   "version": "3.10.11"
  }
 },
 "nbformat": 4,
 "nbformat_minor": 2
}
