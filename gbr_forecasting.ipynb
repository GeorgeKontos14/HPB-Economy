{
 "cells": [
  {
   "cell_type": "code",
   "execution_count": null,
   "metadata": {},
   "outputs": [],
   "source": [
    "import numpy as np\n",
    "\n",
    "import pandas as pd\n",
    "\n",
    "import Constants\n",
    "from Forecasting import UnivariateForecasts, MultivariateForecasts\n",
    "from Utils import DataUtils"
   ]
  },
  {
   "cell_type": "code",
   "execution_count": null,
   "metadata": {},
   "outputs": [],
   "source": [
    "n_clusters = 13\n",
    "names, gdp = DataUtils.load_forecast_data()\n",
    "labels = DataUtils.load_labels(Constants.labels_path)\n",
    "gdp_data = np.log(gdp[:, -Constants.T:])\n",
    "dir = 'Forecasts_Raw'"
   ]
  },
  {
   "cell_type": "code",
   "execution_count": null,
   "metadata": {},
   "outputs": [],
   "source": [
    "in_sample_predictions = []\n",
    "test_predictions = []\n",
    "horizon_predictions = []\n",
    "best_params = {}\n",
    "for i, country in enumerate(names):\n",
    "    _, _, test_preds, horizon_preds, in_sample_preds, params_country = UnivariateForecasts.univariate_forecast(\n",
    "        gdp_data[i], country\n",
    "    )\n",
    "    in_sample_predictions.append(in_sample_preds)\n",
    "    test_predictions.append(test_preds)\n",
    "    horizon_predictions.append(horizon_preds)\n",
    "    best_params[country] = params_country\n",
    "\n",
    "in_sample_predictions = pd.concat(in_sample_predictions, axis=1)\n",
    "test_predictions = pd.concat(test_predictions, axis=1)\n",
    "horizon_predictions = pd.concat(horizon_predictions, axis=1)"
   ]
  },
  {
   "cell_type": "code",
   "execution_count": null,
   "metadata": {},
   "outputs": [],
   "source": [
    "path = f'Results/{dir}/Univariate'\n",
    "DataUtils.write_forecasts(in_sample_predictions, test_predictions, horizon_predictions,path)\n",
    "DataUtils.write_params(best_params, f'{path}/params.txt', 1)"
   ]
  },
  {
   "cell_type": "code",
   "execution_count": null,
   "metadata": {},
   "outputs": [],
   "source": [
    "_, __, test_predictions, horizon_predictions, in_sample_predictions, best_params = MultivariateForecasts.multiseries_independent_forecasts(\n",
    "    gdp_data, names\n",
    ")"
   ]
  },
  {
   "cell_type": "code",
   "execution_count": null,
   "metadata": {},
   "outputs": [],
   "source": [
    "path = f'Results/{dir}/Independent/All'\n",
    "DataUtils.write_forecasts(in_sample_predictions, test_predictions, horizon_predictions,path)\n",
    "DataUtils.write_params(best_params, f'{path}/params.txt', 0)"
   ]
  },
  {
   "cell_type": "code",
   "execution_count": null,
   "metadata": {},
   "outputs": [],
   "source": [
    "in_sample_predictions = []\n",
    "test_predictions = []\n",
    "horizon_predictions = []\n",
    "best_params = {}\n",
    "\n",
    "for j in range(n_clusters):\n",
    "    if sum(labels==j) == 1:\n",
    "        ind = np.where(labels==j)[0][0]\n",
    "        y = gdp_data[ind]\n",
    "        country = names[ind]\n",
    "        _, _, test_preds, horizon_preds, in_sample_preds, params_specific = UnivariateForecasts.univariate_forecast(\n",
    "            y, country\n",
    "        )\n",
    "    else:\n",
    "        cluster_data = gdp_data[[i for i, label in enumerate(labels) if label == j]]\n",
    "        cluster_names = [names[i] for i, label in enumerate(labels) if label == j]\n",
    "        \n",
    "        _, __, test_preds, horizon_preds, in_sample_preds, params_specific = MultivariateForecasts.multiseries_independent_forecasts(\n",
    "            cluster_data, cluster_names\n",
    "        )\n",
    "\n",
    "    in_sample_predictions.append(in_sample_preds)\n",
    "    test_predictions.append(test_preds)\n",
    "    horizon_predictions.append(horizon_preds)\n",
    "    best_params[f'Cluster_{j}'] = params_specific\n",
    "\n",
    "in_sample_predictions = pd.concat(in_sample_predictions, axis=1)\n",
    "test_predictions = pd.concat(test_predictions, axis=1)\n",
    "horizon_predictions = pd.concat(horizon_predictions, axis=1)    "
   ]
  },
  {
   "cell_type": "code",
   "execution_count": null,
   "metadata": {},
   "outputs": [],
   "source": [
    "path = f'Results/{dir}/Independent/Clusters'\n",
    "DataUtils.write_forecasts(in_sample_predictions, test_predictions, horizon_predictions,path)\n",
    "DataUtils.write_params(best_params, f'{path}/params.txt', 1)"
   ]
  },
  {
   "cell_type": "code",
   "execution_count": null,
   "metadata": {},
   "outputs": [],
   "source": [
    "in_sample_predictions = []\n",
    "test_predictions = []\n",
    "horizon_predictions = []\n",
    "best_params = {}\n",
    "\n",
    "for j in range(n_clusters):\n",
    "    if sum(labels==j) == 1:\n",
    "        ind = np.where(labels==j)[0][0]\n",
    "        y = gdp_data[ind]\n",
    "        country = names[ind]\n",
    "        _, _, test_preds, horizon_preds, in_sample_preds, params_specific = UnivariateForecasts.univariate_forecast(\n",
    "            y, country\n",
    "        )\n",
    "    else:\n",
    "        cluster_data = gdp_data[[i for i, label in enumerate(labels) if label == j]]\n",
    "        cluster_names = [names[i] for i, label in enumerate(labels) if label == j]\n",
    "        \n",
    "        _, __, test_preds, horizon_preds, in_sample_preds, params_specific = MultivariateForecasts.many_to_one_forecasts(\n",
    "            cluster_data, cluster_names\n",
    "        )\n",
    "\n",
    "    in_sample_predictions.append(in_sample_preds)\n",
    "    test_predictions.append(test_preds)\n",
    "    horizon_predictions.append(horizon_preds)\n",
    "    best_params[f'Cluster_{j}'] = params_specific\n",
    "\n",
    "in_sample_predictions = pd.concat(in_sample_predictions, axis=1)\n",
    "test_predictions = pd.concat(test_predictions, axis=1)\n",
    "horizon_predictions = pd.concat(horizon_predictions, axis=1)"
   ]
  },
  {
   "cell_type": "code",
   "execution_count": null,
   "metadata": {},
   "outputs": [],
   "source": [
    "path = f'Results/{dir}/ManyToOne/Clusters'\n",
    "DataUtils.write_forecasts(in_sample_predictions, test_predictions, horizon_predictions,path)\n",
    "DataUtils.write_params(best_params, f'{path}/params.txt', 2)"
   ]
  },
  {
   "cell_type": "code",
   "execution_count": null,
   "metadata": {},
   "outputs": [],
   "source": [
    "in_sample_predictions = []\n",
    "test_predictions = []\n",
    "horizon_predictions = []\n",
    "best_params = {}\n",
    "\n",
    "for j in range(n_clusters):\n",
    "    if sum(labels==j) == 1:\n",
    "        ind = np.where(labels==j)[0][0]\n",
    "        y = gdp_data[ind]\n",
    "        country = names[ind]\n",
    "        _, _, test_preds, horizon_preds, in_sample_preds, params_specific = UnivariateForecasts.univariate_forecast(\n",
    "            y, country\n",
    "        )\n",
    "    else:\n",
    "        cluster_data = gdp_data[[i for i, label in enumerate(labels) if label == j]]\n",
    "        cluster_names = [names[i] for i, label in enumerate(labels) if label == j]\n",
    "        \n",
    "        _, __, test_preds, horizon_preds, in_sample_preds, params_specific = MultivariateForecasts.many_to_many_forecasts(\n",
    "            cluster_data, cluster_names\n",
    "        )\n",
    "\n",
    "    in_sample_predictions.append(in_sample_preds)\n",
    "    test_predictions.append(test_preds)\n",
    "    horizon_predictions.append(horizon_preds)\n",
    "    best_params[f'Cluster_{j}'] = params_specific\n",
    "\n",
    "in_sample_predictions = pd.concat(in_sample_predictions, axis=1)\n",
    "test_predictions = pd.concat(test_predictions, axis=1)\n",
    "horizon_predictions = pd.concat(horizon_predictions, axis=1)"
   ]
  },
  {
   "cell_type": "code",
   "execution_count": null,
   "metadata": {},
   "outputs": [],
   "source": [
    "path = f'Results/{dir}/ManyToMany/Clusters'\n",
    "DataUtils.write_forecasts(in_sample_predictions, test_predictions, horizon_predictions,path)\n",
    "DataUtils.write_params(best_params, f'{path}/params.txt', 1)"
   ]
  }
 ],
 "metadata": {
  "kernelspec": {
   "display_name": "Python 3",
   "language": "python",
   "name": "python3"
  },
  "language_info": {
   "codemirror_mode": {
    "name": "ipython",
    "version": 3
   },
   "file_extension": ".py",
   "mimetype": "text/x-python",
   "name": "python",
   "nbconvert_exporter": "python",
   "pygments_lexer": "ipython3",
   "version": "3.10.11"
  }
 },
 "nbformat": 4,
 "nbformat_minor": 2
}
